{
 "cells": [
  {
   "cell_type": "code",
   "execution_count": null,
   "metadata": {},
   "outputs": [],
   "source": [
    "# From https://youtu.be/eqOfr4AGLk8?si=_OPismKnTpahd754\n",
    "\n",
    "from tokenCounter import get_token_count, tiktoken_len # To count the number of tokens in a string"
   ]
  },
  {
   "cell_type": "code",
   "execution_count": null,
   "metadata": {},
   "outputs": [],
   "source": [
    "# Split text into chunks\n",
    "from langchain.text_splitter import RecursiveCharacterTextSplitter\n",
    "\n",
    "# Setup the text splitter\n",
    "text_splitter = RecursiveCharacterTextSplitter(\n",
    "    chunk_size=500,\n",
    "    chunk_overlap=20,\n",
    "    length_function=tiktoken_len,\n",
    "    separators=['\\n\\n', '\\n', ' ', '']\n",
    ")"
   ]
  },
  {
   "cell_type": "code",
   "execution_count": null,
   "metadata": {},
   "outputs": [],
   "source": [
    "file_path = \"sample_text.txt\"\n",
    "def get_text_from_file(file_path: str) -> str:\n",
    "    with open(file_path, \"r\") as file:\n",
    "        file_content = file.read()\n",
    "    return file_content\n",
    "\n",
    "text = get_text_from_file(file_path)"
   ]
  },
  {
   "cell_type": "code",
   "execution_count": null,
   "metadata": {},
   "outputs": [],
   "source": [
    "# Split the text using the text_splitter\n",
    "chunks = text_splitter.split_text(text)\n",
    "len(chunks)"
   ]
  },
  {
   "cell_type": "code",
   "execution_count": null,
   "metadata": {},
   "outputs": [],
   "source": [
    "# Inspect the chunks\n",
    "\n",
    "print(chunks[0])\n",
    "print(\"------------------------------------------------\")\n",
    "print(chunks[1])\n",
    "print(\"------------------------------------------------\")\n",
    "print(chunks[2])"
   ]
  },
  {
   "cell_type": "code",
   "execution_count": null,
   "metadata": {},
   "outputs": [],
   "source": [
    "# Add metadata to all the chunks\n",
    "import uuid\n",
    "import datetime\n",
    "today = datetime.date.today().strftime(\"%Y-%m-%d\")\n",
    "data = [\n",
    "    {\n",
    "        'id': f'{str(uuid.uuid4())}-{i}',\n",
    "        'date': today,\n",
    "        'text': chunk\n",
    "    } for i, chunk in enumerate(chunks)\n",
    "]\n",
    "\n",
    "print(data)"
   ]
  },
  {
   "cell_type": "code",
   "execution_count": null,
   "metadata": {},
   "outputs": [],
   "source": [
    "# Save to file. Note the format is json lines (jsonl)\n",
    "import json\n",
    "\n",
    "with open('training_data.jsonl', 'w') as f:\n",
    "    for item in data:\n",
    "        f.write(json.dumps(item))"
   ]
  },
  {
   "cell_type": "code",
   "execution_count": null,
   "metadata": {},
   "outputs": [],
   "source": [
    "# Combine the lines again (sometime you need to combine lines from multiple files)\n",
    "# TODO: There is a bug in here that is still not fixed: JSONDecodeError: Expecting property name enclosed in double quotes: line 2 column 1 (char 2)\n",
    "\n",
    "documents = []\n",
    "\n",
    "with open('training_data.jsonl', 'r') as f:\n",
    "    for line in f:\n",
    "        documents.append(json.loads(line))\n",
    "\n",
    "len(documents)"
   ]
  },
  {
   "cell_type": "code",
   "execution_count": null,
   "metadata": {},
   "outputs": [],
   "source": []
  }
 ],
 "metadata": {
  "kernelspec": {
   "display_name": "Python 3",
   "language": "python",
   "name": "python3"
  },
  "language_info": {
   "codemirror_mode": {
    "name": "ipython",
    "version": 3
   },
   "file_extension": ".py",
   "mimetype": "text/x-python",
   "name": "python",
   "nbconvert_exporter": "python",
   "pygments_lexer": "ipython3",
   "version": "3.11.5"
  }
 },
 "nbformat": 4,
 "nbformat_minor": 2
}

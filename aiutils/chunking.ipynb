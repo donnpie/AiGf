{
 "cells": [
  {
   "cell_type": "code",
   "execution_count": 9,
   "metadata": {},
   "outputs": [
    {
     "ename": "ImportError",
     "evalue": "cannot import name 'tiktoken_len' from 'chunker' (c:\\Users\\donnp\\source\\repos\\AiGf\\aiutils\\chunker.py)",
     "output_type": "error",
     "traceback": [
      "\u001b[1;31m---------------------------------------------------------------------------\u001b[0m",
      "\u001b[1;31mImportError\u001b[0m                               Traceback (most recent call last)",
      "\u001b[1;32mc:\\Users\\donnp\\source\\repos\\AiGf\\aiutils\\chunking.ipynb Cell 1\u001b[0m line \u001b[0;36m3\n\u001b[0;32m      <a href='vscode-notebook-cell:/c%3A/Users/donnp/source/repos/AiGf/aiutils/chunking.ipynb#W0sZmlsZQ%3D%3D?line=0'>1</a>\u001b[0m \u001b[39m# From https://youtu.be/eqOfr4AGLk8?si=_OPismKnTpahd754\u001b[39;00m\n\u001b[1;32m----> <a href='vscode-notebook-cell:/c%3A/Users/donnp/source/repos/AiGf/aiutils/chunking.ipynb#W0sZmlsZQ%3D%3D?line=2'>3</a>\u001b[0m \u001b[39mfrom\u001b[39;00m \u001b[39mchunker\u001b[39;00m \u001b[39mimport\u001b[39;00m get_token_count, tiktoken_len \u001b[39m# To count the number of tokens in a string\u001b[39;00m\n",
      "\u001b[1;31mImportError\u001b[0m: cannot import name 'tiktoken_len' from 'chunker' (c:\\Users\\donnp\\source\\repos\\AiGf\\aiutils\\chunker.py)"
     ]
    }
   ],
   "source": [
    "# From https://youtu.be/eqOfr4AGLk8?si=_OPismKnTpahd754\n",
    "\n",
    "from chunker import get_token_count, tiktoken_len # To count the number of tokens in a string"
   ]
  },
  {
   "cell_type": "code",
   "execution_count": 2,
   "metadata": {},
   "outputs": [],
   "source": [
    "# Split text into chunks\n",
    "from langchain.text_splitter import RecursiveCharacterTextSplitter\n",
    "\n",
    "# Setup the text splitter\n",
    "text_splitter = RecursiveCharacterTextSplitter(\n",
    "    chunk_size=500,\n",
    "    chunk_overlap=20,\n",
    "    length_function=tiktoken_len,\n",
    "    separators=['\\n\\n', '\\n', ' ', '']\n",
    ")"
   ]
  },
  {
   "cell_type": "code",
   "execution_count": 3,
   "metadata": {},
   "outputs": [],
   "source": [
    "file_path = \"sample_text.txt\"\n",
    "def get_text_from_file(file_path: str) -> str:\n",
    "    \"\"\"Load text from a text file\"\"\"\n",
    "    with open(file_path, \"r\") as file:\n",
    "        file_content = file.read()\n",
    "    return file_content\n",
    "\n",
    "text = get_text_from_file(file_path)"
   ]
  },
  {
   "cell_type": "code",
   "execution_count": 4,
   "metadata": {},
   "outputs": [
    {
     "data": {
      "text/plain": [
       "3"
      ]
     },
     "execution_count": 4,
     "metadata": {},
     "output_type": "execute_result"
    }
   ],
   "source": [
    "# Split the text using the text_splitter\n",
    "chunks = text_splitter.split_text(text)\n",
    "len(chunks)"
   ]
  },
  {
   "cell_type": "code",
   "execution_count": 5,
   "metadata": {},
   "outputs": [
    {
     "name": "stdout",
     "output_type": "stream",
     "text": [
      "The Starship Enterprise: Boldly Going Where No One Has Gone Before\n",
      "\n",
      "In the vast expanse of space, one spacecraft stands out as a symbol of exploration, adventure, and the pursuit of knowledge: the starship Enterprise. The very mention of its name conjures up images of interstellar journeys, alien encounters, and the indomitable human spirit. For fans of the Star Trek franchise, the Enterprise is more than just a spaceship; it's an icon, a character in its own right, and a representation of humanity's potential for greatness.\n",
      "\n",
      "A Brief History\n",
      "\n",
      "The concept of the starship Enterprise was introduced by Gene Roddenberry in 1964 as the central vessel in the television series \"Star Trek.\" The first starship to bear the name was the USS Enterprise (NCC-1701), captained by James T. Kirk and commanded by a diverse and intrepid crew. The series, which aired from 1966 to 1969, brought a unique vision of the future to television screensâ€”a future where humanity had transcended its divisions, united under a common goal of exploration and understanding.\n",
      "\n",
      "The Many Incarnations\n",
      "\n",
      "Over the years, the Star Trek franchise has given us numerous versions of the Enterprise, each with its own unique design and mission. The original series featured the Constitution-class USS Enterprise, known for its saucer-shaped primary hull and a secondary hull with nacelles. Later series introduced us to the Galaxy-class USS Enterprise-D (NCC-1701-D), the Sovereign-class USS Enterprise-E (NCC-1701-E), and many more.\n",
      "\n",
      "The starships were designed to push the boundaries of what was possible in the realm of science fiction and to inspire viewers with the idea that we could achieve great things if we set our sights on the stars. Each incarnation of the Enterprise carried on the legacy of the originalâ€”boldly going where no one had gone before.\n",
      "\n",
      "The Crew and Their Mission\n",
      "\n",
      "At the heart of every Enterprise is its crew. The starship is more than just advanced technology; it's a vessel for exploration and diplomacy. The diversity of the crew, both in terms of species and backgrounds, reflects the franchise's message of inclusion and cooperation. Captain Jean-Luc Picard, Captain Kathryn Janeway, and other commanding officers each brought their unique leadership styles and values to the ship, emphasizing the importance of peace, diplomacy, and the pursuit of knowledge.\n",
      "------------------------------------------------\n",
      "The mission of the Enterprise is simple but profound: \"To explore strange new worlds, to seek out new life and new civilizations, to boldly go where no one has gone before.\" This mission statement is the guiding principle for every crew member, and it encapsulates the essence of the Star Trek universe. It's a vision of a future where humanity's best qualities shine through, and the thirst for knowledge is our driving force.\n",
      "\n",
      "The Technology and Design\n",
      "\n",
      "Star Trek has been known for its forward-thinking technology, much of which has since become reality or inspired scientific research. The starship Enterprise itself is a marvel of engineering, boasting warp drive technology that allows it to exceed the speed of light, transporters for near-instantaneous travel between ship and planet, and replicators capable of creating almost any object or food.\n",
      "\n",
      "The design of the Enterprise is not just functional but also iconic. Its saucer section, warp nacelles, and deflector dish are instantly recognizable to fans. The ship's design blends form and function, and the attention to detail in the set design and ship's layout has made the starship a character in its own right.\n",
      "\n",
      "Exploration and Diplomacy\n",
      "\n",
      "The Star Trek universe is built on the idea that exploration and diplomacy are the keys to a better future. The Enterprise is not a warship but a vessel of peace and discovery. It's equipped with advanced sensors and communication technology to understand and communicate with alien species. It carries a scientific and diplomatic mandate to build bridges with new civilizations and seek peaceful solutions to conflicts.\n",
      "\n",
      "The Prime Directive, a central tenet of Starfleet, forbids interference with the internal development of pre-warp civilizations. This principle reflects the franchise's commitment to non-interference and respect for the autonomy of other species.\n",
      "\n",
      "Cultural Impact\n",
      "\n",
      "The Starship Enterprise has had a profound impact on popular culture. It has become a symbol of hope, exploration, and unity. The phrase \"Live long and prosper,\" accompanied by the Vulcan salute, has become part of everyday vernacular. Star Trek conventions, merchandise, and fan communities have flourished for decades, testifying to the enduring appeal of the franchise.\n",
      "\n",
      "The diversity of the Enterprise's crew has also been a source of inspiration for countless individuals who saw themselves represented on screen. Characters like Lieutenant Uhura, a groundbreaking African-American communications officer, were trailblazers for diversity in television.\n",
      "\n",
      "Legacy and Future\n",
      "------------------------------------------------\n",
      "Legacy and Future\n",
      "\n",
      "As of my last knowledge update in September 2021, the legacy of the Starship Enterprise continues to evolve. The franchise has expanded with new series, movies, and animated shows. The Star Trek universe continues to explore the human condition and tackle contemporary issues through the lens of science fiction.\n",
      "\n",
      "The message of the Enterprise remains as relevant as everâ€”a vision of a future where humanity works together to overcome its challenges and reach for the stars. It reminds us that the unknown is not something to be feared but something to be embraced, and that we have the potential to shape our own destiny.\n",
      "\n",
      "In conclusion, the starship Enterprise is more than just a fictional spaceship; it's a symbol of hope, exploration, and the boundless potential of humanity. Whether you're a lifelong Trekkie or just discovering the Star Trek universe, the Enterprise represents the best of what we can beâ€”a future where we boldly go where no one has gone before, in the pursuit of knowledge, peace, and understanding.\n"
     ]
    }
   ],
   "source": [
    "# Inspect the chunks\n",
    "\n",
    "print(chunks[0])\n",
    "print(\"------------------------------------------------\")\n",
    "print(chunks[1])\n",
    "print(\"------------------------------------------------\")\n",
    "print(chunks[2])"
   ]
  },
  {
   "cell_type": "code",
   "execution_count": 6,
   "metadata": {},
   "outputs": [
    {
     "name": "stdout",
     "output_type": "stream",
     "text": [
      "[{'id': '6c536bd0-98e3-47a6-99d3-a96de9af7504-0', 'date': '2023-10-21', 'text': 'The Starship Enterprise: Boldly Going Where No One Has Gone Before\\n\\nIn the vast expanse of space, one spacecraft stands out as a symbol of exploration, adventure, and the pursuit of knowledge: the starship Enterprise. The very mention of its name conjures up images of interstellar journeys, alien encounters, and the indomitable human spirit. For fans of the Star Trek franchise, the Enterprise is more than just a spaceship; it\\'s an icon, a character in its own right, and a representation of humanity\\'s potential for greatness.\\n\\nA Brief History\\n\\nThe concept of the starship Enterprise was introduced by Gene Roddenberry in 1964 as the central vessel in the television series \"Star Trek.\" The first starship to bear the name was the USS Enterprise (NCC-1701), captained by James T. Kirk and commanded by a diverse and intrepid crew. The series, which aired from 1966 to 1969, brought a unique vision of the future to television screensâ€”a future where humanity had transcended its divisions, united under a common goal of exploration and understanding.\\n\\nThe Many Incarnations\\n\\nOver the years, the Star Trek franchise has given us numerous versions of the Enterprise, each with its own unique design and mission. The original series featured the Constitution-class USS Enterprise, known for its saucer-shaped primary hull and a secondary hull with nacelles. Later series introduced us to the Galaxy-class USS Enterprise-D (NCC-1701-D), the Sovereign-class USS Enterprise-E (NCC-1701-E), and many more.\\n\\nThe starships were designed to push the boundaries of what was possible in the realm of science fiction and to inspire viewers with the idea that we could achieve great things if we set our sights on the stars. Each incarnation of the Enterprise carried on the legacy of the originalâ€”boldly going where no one had gone before.\\n\\nThe Crew and Their Mission\\n\\nAt the heart of every Enterprise is its crew. The starship is more than just advanced technology; it\\'s a vessel for exploration and diplomacy. The diversity of the crew, both in terms of species and backgrounds, reflects the franchise\\'s message of inclusion and cooperation. Captain Jean-Luc Picard, Captain Kathryn Janeway, and other commanding officers each brought their unique leadership styles and values to the ship, emphasizing the importance of peace, diplomacy, and the pursuit of knowledge.'}, {'id': 'e3edfbac-7207-47a2-90b3-9900b5244157-1', 'date': '2023-10-21', 'text': 'The mission of the Enterprise is simple but profound: \"To explore strange new worlds, to seek out new life and new civilizations, to boldly go where no one has gone before.\" This mission statement is the guiding principle for every crew member, and it encapsulates the essence of the Star Trek universe. It\\'s a vision of a future where humanity\\'s best qualities shine through, and the thirst for knowledge is our driving force.\\n\\nThe Technology and Design\\n\\nStar Trek has been known for its forward-thinking technology, much of which has since become reality or inspired scientific research. The starship Enterprise itself is a marvel of engineering, boasting warp drive technology that allows it to exceed the speed of light, transporters for near-instantaneous travel between ship and planet, and replicators capable of creating almost any object or food.\\n\\nThe design of the Enterprise is not just functional but also iconic. Its saucer section, warp nacelles, and deflector dish are instantly recognizable to fans. The ship\\'s design blends form and function, and the attention to detail in the set design and ship\\'s layout has made the starship a character in its own right.\\n\\nExploration and Diplomacy\\n\\nThe Star Trek universe is built on the idea that exploration and diplomacy are the keys to a better future. The Enterprise is not a warship but a vessel of peace and discovery. It\\'s equipped with advanced sensors and communication technology to understand and communicate with alien species. It carries a scientific and diplomatic mandate to build bridges with new civilizations and seek peaceful solutions to conflicts.\\n\\nThe Prime Directive, a central tenet of Starfleet, forbids interference with the internal development of pre-warp civilizations. This principle reflects the franchise\\'s commitment to non-interference and respect for the autonomy of other species.\\n\\nCultural Impact\\n\\nThe Starship Enterprise has had a profound impact on popular culture. It has become a symbol of hope, exploration, and unity. The phrase \"Live long and prosper,\" accompanied by the Vulcan salute, has become part of everyday vernacular. Star Trek conventions, merchandise, and fan communities have flourished for decades, testifying to the enduring appeal of the franchise.\\n\\nThe diversity of the Enterprise\\'s crew has also been a source of inspiration for countless individuals who saw themselves represented on screen. Characters like Lieutenant Uhura, a groundbreaking African-American communications officer, were trailblazers for diversity in television.\\n\\nLegacy and Future'}, {'id': '8a8cd46a-7bd5-42b4-ba76-d565aa8e5d80-2', 'date': '2023-10-21', 'text': \"Legacy and Future\\n\\nAs of my last knowledge update in September 2021, the legacy of the Starship Enterprise continues to evolve. The franchise has expanded with new series, movies, and animated shows. The Star Trek universe continues to explore the human condition and tackle contemporary issues through the lens of science fiction.\\n\\nThe message of the Enterprise remains as relevant as everâ€”a vision of a future where humanity works together to overcome its challenges and reach for the stars. It reminds us that the unknown is not something to be feared but something to be embraced, and that we have the potential to shape our own destiny.\\n\\nIn conclusion, the starship Enterprise is more than just a fictional spaceship; it's a symbol of hope, exploration, and the boundless potential of humanity. Whether you're a lifelong Trekkie or just discovering the Star Trek universe, the Enterprise represents the best of what we can beâ€”a future where we boldly go where no one has gone before, in the pursuit of knowledge, peace, and understanding.\"}]\n"
     ]
    }
   ],
   "source": [
    "# Add metadata to all the chunks\n",
    "import uuid\n",
    "import datetime\n",
    "today = datetime.date.today().strftime(\"%Y-%m-%d\")\n",
    "data = [\n",
    "    {\n",
    "        'id': f'{str(uuid.uuid4())}-{i}',\n",
    "        'date': today,\n",
    "        'text': chunk\n",
    "    } for i, chunk in enumerate(chunks)\n",
    "]\n",
    "\n",
    "print(data)"
   ]
  },
  {
   "cell_type": "code",
   "execution_count": 7,
   "metadata": {},
   "outputs": [],
   "source": [
    "# Save to file. Note the format is json lines (jsonl)\n",
    "import json\n",
    "\n",
    "with open('training_data.jsonl', 'w') as f:\n",
    "    for item in data:\n",
    "        f.write(json.dumps(item))"
   ]
  },
  {
   "cell_type": "code",
   "execution_count": 8,
   "metadata": {},
   "outputs": [
    {
     "ename": "JSONDecodeError",
     "evalue": "Extra data: line 1 column 2494 (char 2493)",
     "output_type": "error",
     "traceback": [
      "\u001b[1;31m---------------------------------------------------------------------------\u001b[0m",
      "\u001b[1;31mJSONDecodeError\u001b[0m                           Traceback (most recent call last)",
      "\u001b[1;32mc:\\Users\\donnp\\source\\repos\\AiGf\\aiutils\\chunking.ipynb Cell 8\u001b[0m line \u001b[0;36m8\n\u001b[0;32m      <a href='vscode-notebook-cell:/c%3A/Users/donnp/source/repos/AiGf/aiutils/chunking.ipynb#X10sZmlsZQ%3D%3D?line=5'>6</a>\u001b[0m \u001b[39mwith\u001b[39;00m \u001b[39mopen\u001b[39m(\u001b[39m'\u001b[39m\u001b[39mtraining_data.jsonl\u001b[39m\u001b[39m'\u001b[39m, \u001b[39m'\u001b[39m\u001b[39mr\u001b[39m\u001b[39m'\u001b[39m) \u001b[39mas\u001b[39;00m f:\n\u001b[0;32m      <a href='vscode-notebook-cell:/c%3A/Users/donnp/source/repos/AiGf/aiutils/chunking.ipynb#X10sZmlsZQ%3D%3D?line=6'>7</a>\u001b[0m     \u001b[39mfor\u001b[39;00m line \u001b[39min\u001b[39;00m f:\n\u001b[1;32m----> <a href='vscode-notebook-cell:/c%3A/Users/donnp/source/repos/AiGf/aiutils/chunking.ipynb#X10sZmlsZQ%3D%3D?line=7'>8</a>\u001b[0m         documents\u001b[39m.\u001b[39mappend(json\u001b[39m.\u001b[39;49mloads(line))\n\u001b[0;32m     <a href='vscode-notebook-cell:/c%3A/Users/donnp/source/repos/AiGf/aiutils/chunking.ipynb#X10sZmlsZQ%3D%3D?line=9'>10</a>\u001b[0m \u001b[39mlen\u001b[39m(documents)\n",
      "File \u001b[1;32mc:\\Program Files\\Python311\\Lib\\json\\__init__.py:346\u001b[0m, in \u001b[0;36mloads\u001b[1;34m(s, cls, object_hook, parse_float, parse_int, parse_constant, object_pairs_hook, **kw)\u001b[0m\n\u001b[0;32m    341\u001b[0m     s \u001b[39m=\u001b[39m s\u001b[39m.\u001b[39mdecode(detect_encoding(s), \u001b[39m'\u001b[39m\u001b[39msurrogatepass\u001b[39m\u001b[39m'\u001b[39m)\n\u001b[0;32m    343\u001b[0m \u001b[39mif\u001b[39;00m (\u001b[39mcls\u001b[39m \u001b[39mis\u001b[39;00m \u001b[39mNone\u001b[39;00m \u001b[39mand\u001b[39;00m object_hook \u001b[39mis\u001b[39;00m \u001b[39mNone\u001b[39;00m \u001b[39mand\u001b[39;00m\n\u001b[0;32m    344\u001b[0m         parse_int \u001b[39mis\u001b[39;00m \u001b[39mNone\u001b[39;00m \u001b[39mand\u001b[39;00m parse_float \u001b[39mis\u001b[39;00m \u001b[39mNone\u001b[39;00m \u001b[39mand\u001b[39;00m\n\u001b[0;32m    345\u001b[0m         parse_constant \u001b[39mis\u001b[39;00m \u001b[39mNone\u001b[39;00m \u001b[39mand\u001b[39;00m object_pairs_hook \u001b[39mis\u001b[39;00m \u001b[39mNone\u001b[39;00m \u001b[39mand\u001b[39;00m \u001b[39mnot\u001b[39;00m kw):\n\u001b[1;32m--> 346\u001b[0m     \u001b[39mreturn\u001b[39;00m _default_decoder\u001b[39m.\u001b[39;49mdecode(s)\n\u001b[0;32m    347\u001b[0m \u001b[39mif\u001b[39;00m \u001b[39mcls\u001b[39m \u001b[39mis\u001b[39;00m \u001b[39mNone\u001b[39;00m:\n\u001b[0;32m    348\u001b[0m     \u001b[39mcls\u001b[39m \u001b[39m=\u001b[39m JSONDecoder\n",
      "File \u001b[1;32mc:\\Program Files\\Python311\\Lib\\json\\decoder.py:340\u001b[0m, in \u001b[0;36mJSONDecoder.decode\u001b[1;34m(self, s, _w)\u001b[0m\n\u001b[0;32m    338\u001b[0m end \u001b[39m=\u001b[39m _w(s, end)\u001b[39m.\u001b[39mend()\n\u001b[0;32m    339\u001b[0m \u001b[39mif\u001b[39;00m end \u001b[39m!=\u001b[39m \u001b[39mlen\u001b[39m(s):\n\u001b[1;32m--> 340\u001b[0m     \u001b[39mraise\u001b[39;00m JSONDecodeError(\u001b[39m\"\u001b[39m\u001b[39mExtra data\u001b[39m\u001b[39m\"\u001b[39m, s, end)\n\u001b[0;32m    341\u001b[0m \u001b[39mreturn\u001b[39;00m obj\n",
      "\u001b[1;31mJSONDecodeError\u001b[0m: Extra data: line 1 column 2494 (char 2493)"
     ]
    }
   ],
   "source": [
    "# Combine the lines again (sometime you need to combine lines from multiple files)\n",
    "# TODO: There is a bug in here that is still not fixed: JSONDecodeError: Expecting property name enclosed in double quotes: line 2 column 1 (char 2) or aJSONDecodeError: Extra data: line 1 column 2494 (char 2493)\n",
    "\n",
    "documents = []\n",
    "\n",
    "with open('training_data.jsonl', 'r') as f:\n",
    "    for line in f:\n",
    "        documents.append(json.loads(line))\n",
    "\n",
    "len(documents)"
   ]
  },
  {
   "cell_type": "code",
   "execution_count": null,
   "metadata": {},
   "outputs": [],
   "source": []
  }
 ],
 "metadata": {
  "kernelspec": {
   "display_name": "Python 3",
   "language": "python",
   "name": "python3"
  },
  "language_info": {
   "codemirror_mode": {
    "name": "ipython",
    "version": 3
   },
   "file_extension": ".py",
   "mimetype": "text/x-python",
   "name": "python",
   "nbconvert_exporter": "python",
   "pygments_lexer": "ipython3",
   "version": "3.11.5"
  }
 },
 "nbformat": 4,
 "nbformat_minor": 2
}
